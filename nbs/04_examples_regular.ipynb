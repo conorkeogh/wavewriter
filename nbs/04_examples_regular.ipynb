{
 "cells": [
  {
   "cell_type": "markdown",
   "metadata": {},
   "source": [
    "# Examples\n",
    "\n",
    "> Example applications\n",
    "\n",
    "Waveforms adapted to use regularly spaced samples"
   ]
  },
  {
   "cell_type": "code",
   "execution_count": null,
   "metadata": {},
   "outputs": [],
   "source": [
    "#| default_exp waveforms"
   ]
  },
  {
   "cell_type": "code",
   "execution_count": null,
   "metadata": {},
   "outputs": [],
   "source": [
    "#| hide\n",
    "#| export\n",
    "from nbdev.showdoc import *\n",
    "import numpy as np\n",
    "from scipy.optimize import minimize\n",
    "from math import exp, pow\n",
    "\n",
    "from matplotlib import pyplot as plt\n",
    "import seaborn as sns\n",
    "import time"
   ]
  },
  {
   "cell_type": "code",
   "execution_count": null,
   "metadata": {},
   "outputs": [],
   "source": [
    "#|hide\n",
    "from wavewriter import *"
   ]
  },
  {
   "cell_type": "code",
   "execution_count": null,
   "metadata": {},
   "outputs": [],
   "source": [
    "#|hide\n",
    "sns.set()\n",
    "sns.set_context('talk')\n",
    "sns.set_style('ticks')"
   ]
  },
  {
   "cell_type": "code",
   "execution_count": null,
   "metadata": {},
   "outputs": [],
   "source": [
    "'''\n",
    "    FOR DEBUGGING - CHANGING WRITE METHOD\n",
    "\n",
    "    WaveWriter device drivers\n",
    "\n",
    "    Oxford Neural Interfacing\n",
    "    Written by Conor Keogh\n",
    "    conor.keogh@nds.ox.ac.uk\n",
    "    04/03/2024\n",
    "\n",
    "    Provides functions for interacting with WaveWriter device\n",
    "'''\n",
    "\n",
    "'''\n",
    "WaveWriter device class\n",
    "Provide functions to interact with device\n",
    "Finds device and confirms presence\n",
    "Sends messages to device to specify waveforms and start/stop stimulation\n",
    "'''\n",
    "import serial\n",
    "import serial.tools.list_ports\n",
    "import time\n",
    "import numpy as np\n",
    "\n",
    "class WaveWriter:\n",
    "\n",
    "    def __init__(self):\n",
    "        '''\n",
    "        Device object for controlling synchronisation\n",
    "        '''\n",
    "\n",
    "        '''\n",
    "        Define constants for device configuration\n",
    "        '''\n",
    "        # Define messages\n",
    "        self.GREETING = b'Hello'\n",
    "        self.RESPONSE = 'Hi there'\n",
    "        \n",
    "        self.prep1_command = 'prep1'    # Prepare buffer 1 (V)\n",
    "        self.done1_command = 'done1'    # Stop buffer 1\n",
    "        self.start_command = 'start'    # Start stimulation\n",
    "        self.stop_command = 'stop'      # Stop stimulation\n",
    "    \n",
    "        # Define COM port settings\n",
    "        self.BAUDRATE = 115200\n",
    "        \n",
    "        # Empty arrays for waveform\n",
    "        self.v = np.array([])\n",
    "        self.t = np.array([])\n",
    "        \n",
    "        # Get all serial ports\n",
    "        ports = serial.tools.list_ports.comports()\n",
    "\n",
    "        # For each port: try accessing and checking for acknowledge message\n",
    "        port_found = False\n",
    "        for port in ports:\n",
    "            try:\n",
    "                # Connect to serial port\n",
    "                self.ser = serial.Serial(port.device, self.BAUDRATE, timeout=1, write_timeout=1)\n",
    "\n",
    "                # Send test message and read response; repeat 3 times and keep third\n",
    "                for _ in range(3):\n",
    "                    self.ser.write(self.GREETING)\n",
    "                    response = self.ser.readline()\n",
    "\n",
    "                # Check if response is appropriate\n",
    "                if response.decode().rstrip('\\x00') == self.RESPONSE:\n",
    "                    self.target_port = port.device\n",
    "                    port_found = True\n",
    "\n",
    "                # Close port\n",
    "                self.ser.close()\n",
    "\n",
    "            except Exception as e:\n",
    "                # Do nothing - just ignore failed ports\n",
    "                pass\n",
    "\n",
    "        # If port found: connect to port\n",
    "        if port_found:\n",
    "            self.ser = serial.Serial(self.target_port, self.BAUDRATE, timeout=5)\n",
    "\n",
    "        # If port not found: raise error\n",
    "        else:\n",
    "            raise Exception(\"Device not found\")\n",
    "            #print(\"Device not found\")\n",
    "\n",
    "    ''' Send required messages over serial '''\n",
    "    # Send message via serial port\n",
    "    def sendMessage(self, message):\n",
    "        '''\n",
    "        Send message over serial port\n",
    "        Takes message to send\n",
    "        '''\n",
    "        self.ser.write(message.encode())\n",
    "        \n",
    "    # Check inputs are appropriate\n",
    "    def check_inputs(self, v, t):\n",
    "        # Check types\n",
    "        if type(v) is not np.ndarray:\n",
    "            raise Exception(\"V is not an array\")\n",
    "            \n",
    "        if type(t) is not np.ndarray:\n",
    "            raise Exception(\"t is not an array\")\n",
    "            \n",
    "        # Check dimensions\n",
    "        v = np.squeeze(v)\n",
    "        t = np.squeeze(t)\n",
    "        \n",
    "        if v.ndim > 1:\n",
    "            raise Exception(\"V is not one-dimensional\")\n",
    "            \n",
    "        if t.ndim > 1:\n",
    "            raise Exception(\"t is not one dimensional\")\n",
    "            \n",
    "        # Check lengths are equal\n",
    "        if v.size != t.size:\n",
    "            raise Exception(\"V and t are not of equal lengths\")\n",
    "            \n",
    "        # If appropriate: save V and t to object\n",
    "        self.v = v\n",
    "        self.t = t\n",
    "        \n",
    "    def convert_buffer(self, x):\n",
    "        ''' Convert array to buffer to send '''\n",
    "        # Create emoty string\n",
    "        x_buffer = ''\n",
    "        \n",
    "        # Iterate through array\n",
    "        for value in x[:-1]:\n",
    "            x_buffer += str(value)    # Add to buffer\n",
    "            x_buffer += ','           # Add delimiter\n",
    "        x_buffer += str(x[-1])        # Add last value without delimiter\n",
    "        \n",
    "        return x_buffer\n",
    "            \n",
    "    def send_waveform(self, v, t):\n",
    "        ''' Send waveform data to device '''\n",
    "        # Check inputs are appropriate\n",
    "        self.check_inputs(v, t)\n",
    "        \n",
    "        # Convert to string buffers to send\n",
    "        v_buffer = self.convert_buffer(v)\n",
    "        t_buffer = self.convert_buffer(t)\n",
    "        \n",
    "        # Prepare to send first buffer\n",
    "        self.sendMessage(self.prep1_command)\n",
    "        \n",
    "        # Send V to buffer 1\n",
    "        self.sendMessage(v_buffer)\n",
    "        \n",
    "        # End buffer\n",
    "        self.sendMessage(self.done1_command)\n",
    "        \n",
    "        # Prepare to send second buffer\n",
    "        #self.sendMessage(self.prep2_command)\n",
    "        \n",
    "        # Send t to buffer 2\n",
    "        #self.sendMessage(t_buffer)\n",
    "        \n",
    "    def start(self):\n",
    "        ''' Send start signal '''\n",
    "        self.sendMessage(self.start_command)\n",
    "\n",
    "    def stop(self):\n",
    "        ''' Send end signal '''\n",
    "        self.sendMessage(self.stop_command)\n",
    "\n",
    "    # Close channel\n",
    "    def close(self):\n",
    "        '''\n",
    "        Closes device connection\n",
    "        '''\n",
    "        self.ser.close()"
   ]
  },
  {
   "cell_type": "code",
   "execution_count": null,
   "metadata": {},
   "outputs": [],
   "source": [
    "#|hide\n",
    "#|eval: false\n",
    "device = WaveWriter()"
   ]
  },
  {
   "cell_type": "markdown",
   "metadata": {},
   "source": [
    "## Plotting waveforms"
   ]
  },
  {
   "cell_type": "code",
   "execution_count": null,
   "metadata": {},
   "outputs": [],
   "source": [
    "#| export\n",
    "def plot_waveforms(t, v):\n",
    "    '''\n",
    "    Generate waveform plot\n",
    "    Simulate effect of sending to DAC\n",
    "    \n",
    "    For every point after first: duplicate previous amplitude value at new timepoint\n",
    "    This allows simulating step change at each timepoint\n",
    "    '''\n",
    "    new_v = [0, 0, v[0]]\n",
    "    new_t = [-50, t[0], t[0]]\n",
    "    \n",
    "    for idx, v_ in enumerate(v[1:]):\n",
    "        # Add old value at new timepoint\n",
    "        new_v.append(new_v[-1])\n",
    "        new_t.append(t[idx+1])\n",
    "        \n",
    "        # Add new value at new timepoint\n",
    "        new_v.append(v_)\n",
    "        new_t.append(t[idx+1])\n",
    "        \n",
    "    # Plot figures\n",
    "    fig, ax = plt.subplots()\n",
    "    ax.plot(new_t, new_v, 'k.')\n",
    "    ax.plot(new_t, new_v, 'k')\n",
    "    \n",
    "    ax.set(\n",
    "        xlabel = 'Time ($\\mu$s)',\n",
    "        ylabel = 'Amplitude (mA)'\n",
    "    )\n",
    "    \n",
    "    sns.despine(offset = 10, trim=True)"
   ]
  },
  {
   "cell_type": "markdown",
   "metadata": {},
   "source": [
    "## Converting waveforms"
   ]
  },
  {
   "cell_type": "code",
   "execution_count": null,
   "metadata": {},
   "outputs": [],
   "source": [
    "# Convert waveform\n",
    "def convert_waveform(v, t):\n",
    "    '''\n",
    "    Convert waveform into format ready to be sent to device\n",
    "    '''\n",
    "    # Convert to range 0 - 4096 from -50 to 50\n",
    "    v = ((v+50) / 100) * 4096\n",
    "    v = v.astype(int)\n",
    "    \n",
    "    t = t.astype(int)\n",
    "    \n",
    "    return v, t"
   ]
  },
  {
   "cell_type": "markdown",
   "metadata": {},
   "source": [
    "## Square waveforms"
   ]
  },
  {
   "cell_type": "markdown",
   "metadata": {},
   "source": [
    "### Tonic stimulation"
   ]
  },
  {
   "cell_type": "code",
   "execution_count": null,
   "metadata": {},
   "outputs": [],
   "source": [
    "#| export\n",
    "# Generate tonic stimulation waveform\n",
    "def generate_tonic(\n",
    "    amplitude: float, # Amplitude of square wave; mA\n",
    "    frequency: int, # Number of square waves per second; Hz\n",
    "    pulsewidth: int, # Width of pulses; us\n",
    "    biphasic: bool = True # Whether to include charge balancing phase; bool\n",
    ") -> (np.ndarray, np.ndarray):\n",
    "    '''\n",
    "    Generate tonic square wave stimulation\n",
    "    Args:\n",
    "        amplitude: float; amplitude of square waves (mA)\n",
    "        frequency: int; number of square waves per second (Hz)\n",
    "        pulsewidth: int; width of pulses (us)\n",
    "        biphasic: bool, default True; whether pulses should have biphasic component\n",
    "    Returns:\n",
    "        v: ndarray; output at each timepoint (mA)\n",
    "        t: ndarray; correspondong timepoints (us)\n",
    "    '''\n",
    "    # Start with stimulation on at t=0\n",
    "    v = np.array([])\n",
    "    t = np.array([])\n",
    "    \n",
    "    # Get period between pulses\n",
    "    period = 1000000 / frequency # Period in microseconds\n",
    "    \n",
    "    # Get interval between pulses\n",
    "    if biphasic == True:\n",
    "        interval = period - (pulsewidth * 2)\n",
    "    else:\n",
    "        interval = period - pulsewidth\n",
    "        \n",
    "    # Generate five pulses (repeating):\n",
    "    for pulse in range (1):\n",
    "        # Start stimulation\n",
    "        v = np.concatenate((v, np.ones(int(pulsewidth/10), dtype=int)*amplitude))\n",
    "            \n",
    "        # If biphasic: add biphasic pulse then stop\n",
    "        if biphasic == True:\n",
    "            # Add negative phase\n",
    "            v = np.concatenate((v, np.ones(int(pulsewidth/10), dtype=int)*-amplitude))\n",
    "            \n",
    "        # Add interval before next pulse\n",
    "        v = np.concatenate((v, np.zeros(int(interval/10), dtype=int)))\n",
    "        \n",
    "    # Get time\n",
    "    t = np.linspace(0, len(v)*10, num=len(v))\n",
    "        \n",
    "    return v, t"
   ]
  },
  {
   "cell_type": "code",
   "execution_count": null,
   "metadata": {},
   "outputs": [
    {
     "data": {
      "image/png": "[encoded data removed]",
      "text/plain": [
       "<Figure size 432x288 with 1 Axes>"
      ]
     },
     "metadata": {},
     "output_type": "display_data"
    }
   ],
   "source": [
    "# Generate tonic pulse train\n",
    "v, t = generate_tonic(\n",
    "    10, # mA\n",
    "    40, # Hz\n",
    "    100, # us\n",
    "    biphasic = True\n",
    ")\n",
    "\n",
    "plot_waveforms(t, v)"
   ]
  },
  {
   "cell_type": "code",
   "execution_count": null,
   "metadata": {},
   "outputs": [],
   "source": [
    "# Send to device\n",
    "v_, t_ = convert_waveform(v, t)\n",
    "device.send_waveform(v_, t_)\n",
    "device.start()\n",
    "time.sleep(10)\n",
    "device.stop()"
   ]
  },
  {
   "cell_type": "markdown",
   "metadata": {},
   "source": [
    "### High frequency"
   ]
  },
  {
   "cell_type": "code",
   "execution_count": null,
   "metadata": {},
   "outputs": [
    {
     "data": {
      "image/png": "[encoded data removed]",
      "text/plain": [
       "<Figure size 432x288 with 1 Axes>"
      ]
     },
     "metadata": {},
     "output_type": "display_data"
    }
   ],
   "source": [
    "# Generate high frequency tonic stimulation\n",
    "v, t = generate_tonic(\n",
    "    20, # mA\n",
    "    10000, # Hz\n",
    "    30, # mA\n",
    "    biphasic=True\n",
    ")\n",
    "\n",
    "plot_waveforms(t, v)"
   ]
  },
  {
   "cell_type": "code",
   "execution_count": null,
   "metadata": {},
   "outputs": [],
   "source": [
    "# Send to device\n",
    "v_, t_ = convert_waveform(v, t)\n",
    "device.send_waveform(v_, t_)\n",
    "device.start()\n",
    "time.sleep(10)\n",
    "device.stop()"
   ]
  },
  {
   "cell_type": "markdown",
   "metadata": {},
   "source": [
    "### Burst (Boston)"
   ]
  },
  {
   "cell_type": "code",
   "execution_count": null,
   "metadata": {},
   "outputs": [],
   "source": [
    "#| export\n",
    "# Generate Boston burst waveform\n",
    "def generate_burst_boston(\n",
    "    amplitude: float, # Amplitude of burst; mA\n",
    "    numpulses: int, # Number of pulses in burst\n",
    "    intraburst: int, # Frequency of pulses in burst; Hz\n",
    "    interburst: int, # Frequency of bursts; Hz\n",
    "    pulsewidth: int # Width of pulses in burst; us\n",
    ") -> (np.ndarray, np.ndarray):\n",
    "    '''\n",
    "    Generate Boston burst waveform\n",
    "    Args:\n",
    "        amplitude: float; amplitude of burst (mA)\n",
    "        numpulses: int; number of pulses in burst\n",
    "        intraburst: int; frequency of pulses within burst (Hz)\n",
    "        interburst: int; frequency of bursts (Hz)\n",
    "        pulsewidth: int; width of pulses (us)\n",
    "    Returns:\n",
    "        v: ndarray; output at each timepoint (mA)\n",
    "        t: ndarray; corresponding timepoints (us)\n",
    "    '''\n",
    "    # Create lists; start stimulation at t=0\n",
    "    v = np.array([])\n",
    "    t = np.array([])\n",
    "    \n",
    "    # Get period and interval between pulses\n",
    "    period_intra = 1000000 / intraburst # Period in microseconds\n",
    "    interval_intra = period_intra - (pulsewidth * 2)\n",
    "    \n",
    "    # Get period and interval between bursts\n",
    "    burst_duration = ((pulsewidth * 2) + interval_intra) * numpulses\n",
    "    period_inter = 1000000 / interburst\n",
    "    interval_inter = period_inter - burst_duration\n",
    "    \n",
    "    # Generate three bursts\n",
    "    for burst in range (1):\n",
    "        # Generate pulses\n",
    "        for pulse in range(numpulses):\n",
    "            # Start stimulation\n",
    "            v = np.concatenate((v, np.ones(int(pulsewidth/10), dtype=int)*amplitude))\n",
    "            \n",
    "            # Add biphasic pulse\n",
    "            v = np.concatenate((v, np.ones(int(pulsewidth/10), dtype=int)*-amplitude))\n",
    "            \n",
    "            # Add interval before next pulse\n",
    "            v = np.concatenate((v, np.zeros(int(interval_intra/10), dtype=int)))\n",
    "            \n",
    "        # Add interval before next burst\n",
    "        v = np.concatenate((v, np.zeros(int(interval_inter/10), dtype=int)))\n",
    "        \n",
    "    # Get time\n",
    "    t = np.linspace(0, len(v)*10, num=len(v))\n",
    "        \n",
    "    return v, t"
   ]
  },
  {
   "cell_type": "code",
   "execution_count": null,
   "metadata": {},
   "outputs": [
    {
     "data": {
      "image/png": "[encoded data removed]",
      "text/plain": [
       "<Figure size 432x288 with 1 Axes>"
      ]
     },
     "metadata": {},
     "output_type": "display_data"
    }
   ],
   "source": [
    "# Generate Boston burst waveform\n",
    "v, t = generate_burst_boston(\n",
    "    20, # mA\n",
    "    5, # pulses per burst\n",
    "    500, # Hz intraburst\n",
    "    40, # Hz interburst\n",
    "    1000 # us pulsewidth\n",
    ")\n",
    "\n",
    "plot_waveforms(t, v)"
   ]
  },
  {
   "cell_type": "code",
   "execution_count": null,
   "metadata": {},
   "outputs": [],
   "source": [
    "# Send to device\n",
    "v_, t_ = convert_waveform(v, t)\n",
    "device.send_waveform(v_, t_)\n",
    "device.start()\n",
    "time.sleep(10)\n",
    "device.stop()"
   ]
  },
  {
   "cell_type": "markdown",
   "metadata": {},
   "source": [
    "### Burst (Abbott)"
   ]
  },
  {
   "cell_type": "code",
   "execution_count": null,
   "metadata": {},
   "outputs": [],
   "source": [
    "#| export\n",
    "#| hide\n",
    "# a set to amplitude / 2; k determined numerically\n",
    "def exponential_decay(x, a, k):\n",
    "    return a * np.exp(-k * x)\n",
    "\n",
    "# Objective function: find k s.t. AUC exponential = AUC pulses\n",
    "def objective(k, x, a, target):\n",
    "    auc_recovery = np.abs(np.sum(exponential_decay(x,a,k))) \n",
    "    val = np.abs(auc_recovery - target)\n",
    "    #print(f\"{k}: {auc_recovery}; {target}; {val}\")\n",
    "    return val"
   ]
  },
  {
   "cell_type": "code",
   "execution_count": null,
   "metadata": {},
   "outputs": [],
   "source": [
    "#| export\n",
    "# Generate Abbott burst waveform\n",
    "def generate_burst_abbott(\n",
    "    amplitude: float, # Amplitude of burst; mA\n",
    "    intraburst: int, # Frequency of pulses within burst; Hz\n",
    "    interburst: int, # Frequency of bursts; Hz\n",
    "    pulsewidth: int # Width of pulses within burst (us)\n",
    ") -> (np.ndarray, np.ndarray):\n",
    "    '''\n",
    "    Generate Abbott burst waveform\n",
    "    Args:\n",
    "        amplitude: float; amplitude of burst (mA)\n",
    "        intraburst: int; frequency of pulses within burst (Hz)\n",
    "        interburst: int; frequency of bursts (Hz)\n",
    "        pulsewidth: int; width of pulses (us)\n",
    "    Returns:\n",
    "        v: ndarray; output at each timepoint (mA)\n",
    "        t: ndarray; corresponding timepoints (us)\n",
    "    '''\n",
    "    # Create lists; start stimulation at t=0\n",
    "    v = np.array([])\n",
    "    t = np.array([])\n",
    "    \n",
    "    # Get period + interval between pulses\n",
    "    period_intra = 1000000 / intraburst # Period in microseconds\n",
    "    interval_intra = period_intra - pulsewidth\n",
    "    \n",
    "    # Get period + interval between bursts\n",
    "    burst_duration = (pulsewidth + interval_intra) * 5\n",
    "    period_inter = 1000000 / interburst\n",
    "    interval_inter = period_inter - burst_duration\n",
    "    \n",
    "    # Generate pulses\n",
    "    for pulse in range(4):\n",
    "        # Start stimulation\n",
    "        v = np.concatenate((v, np.ones(int(pulsewidth/10), dtype=int)*amplitude))\n",
    "        \n",
    "        # Add interval before next pulse\n",
    "        v = np.concatenate((v, np.zeros(int(interval_intra/10), dtype=int)))\n",
    "        \n",
    "    # Add last pulse - no interval after\n",
    "    v = np.concatenate((v, np.ones(int(pulsewidth/10), dtype=int)*amplitude))\n",
    "    \n",
    "    # Add recovery phase\n",
    "    t_ = np.linspace(0, 5000, num=500)\n",
    "    \n",
    "    # Get value to recover\n",
    "    target = np.abs(np.sum(v))\n",
    "    \n",
    "    # Optimise parameters to match this \n",
    "    x0 = 0.001\n",
    "    res = minimize(objective, x0,\n",
    "                  method='nelder-mead',\n",
    "                  args=(t_, -amplitude*0.25, target)\n",
    "                  )\n",
    "    \n",
    "    # Get optimal value\n",
    "    k = res.x\n",
    "    \n",
    "    # Get exponential recovery\n",
    "    v_recovery = exponential_decay(t_, -amplitude*0.25, -res.x)\n",
    "    \n",
    "    # Add to values\n",
    "    v = np.concatenate((v, v_recovery))\n",
    "        \n",
    "    # Add interval before next burst\n",
    "    v = np.concatenate((v, np.zeros(int(interval_inter/10), dtype=int)))\n",
    "    \n",
    "    # Get time\n",
    "    t = np.linspace(0, len(v)*10, num=len(v))\n",
    "    \n",
    "    return v, t"
   ]
  },
  {
   "cell_type": "code",
   "execution_count": null,
   "metadata": {},
   "outputs": [
    {
     "data": {
      "image/png": "[encoded data removed]",
      "text/plain": [
       "<Figure size 432x288 with 1 Axes>"
      ]
     },
     "metadata": {},
     "output_type": "display_data"
    }
   ],
   "source": [
    "# Generate Abbott burst waveform\n",
    "v, t = generate_burst_abbott(\n",
    "    20, # mA\n",
    "    500, # Hz intraburst\n",
    "    40, # Hz interburst\n",
    "    1000, # us pulsewidth\n",
    ")\n",
    "\n",
    "plot_waveforms(t, v)"
   ]
  },
  {
   "cell_type": "code",
   "execution_count": null,
   "metadata": {},
   "outputs": [],
   "source": [
    "# Send to device\n",
    "v_, t_ = convert_waveform(v, t)\n",
    "device.send_waveform(v_, t_)\n",
    "device.start()\n",
    "time.sleep(10)\n",
    "device.stop()"
   ]
  },
  {
   "cell_type": "markdown",
   "metadata": {},
   "source": [
    "## Sinusoidal waveforms"
   ]
  },
  {
   "cell_type": "markdown",
   "metadata": {},
   "source": [
    "### Sinusoid"
   ]
  },
  {
   "cell_type": "code",
   "execution_count": null,
   "metadata": {},
   "outputs": [],
   "source": [
    "# Generate sinusoidal waveform\n",
    "def generate_sine(\n",
    "    amplitude: float, # Amplitude of sine wave\n",
    "    frequency: int, # Frequency of sine wave\n",
    "    numcycles: int # Number of cycles to generate\n",
    ") -> (np.ndarray, np.ndarray):\n",
    "    '''\n",
    "    Generate sinusoidal waveform\n",
    "    Args:\n",
    "        amplitude: float; maximal amplitude\n",
    "        frequency: int; frequency of sinusoid\n",
    "        numcycles: int; number of cycles to generate\n",
    "    Returns:\n",
    "        v: ndarray; output at each timepoint (mA)\n",
    "        t: ndarray; corresponding timepoints (us)\n",
    "    '''\n",
    "    # Get period for one cycle\n",
    "    period = 1 / frequency\n",
    "    num_samples = int((1000000 / frequency) / 10) # 10us per sample\n",
    "    \n",
    "    # Get time\n",
    "    t = np.linspace(0, period*numcycles, num=num_samples*numcycles)\n",
    "    \n",
    "    # Get sinusoid\n",
    "    v = np.sin(2 * np.pi * frequency * t) * amplitude\n",
    "    \n",
    "    # Convert time to microseconds\n",
    "    t = t * 1000000\n",
    "    \n",
    "    return v, t"
   ]
  },
  {
   "cell_type": "code",
   "execution_count": null,
   "metadata": {},
   "outputs": [
    {
     "data": {
      "image/png": "[encoded data removed]",
      "text/plain": [
       "<Figure size 432x288 with 1 Axes>"
      ]
     },
     "metadata": {},
     "output_type": "display_data"
    }
   ],
   "source": [
    "# Generate sinusoidal stimulation\n",
    "v, t = generate_sine(\n",
    "    40, # mA\n",
    "    100, # Hz\n",
    "    1 # Cycles\n",
    ")\n",
    "\n",
    "plot_waveforms(t, v)"
   ]
  },
  {
   "cell_type": "code",
   "execution_count": null,
   "metadata": {},
   "outputs": [],
   "source": [
    "# Send to device\n",
    "v_, t_ = convert_waveform(v, t)\n",
    "device.send_waveform(v_, t_)\n",
    "device.start()\n",
    "time.sleep(10)\n",
    "device.stop()"
   ]
  },
  {
   "cell_type": "markdown",
   "metadata": {},
   "source": [
    "### Square-modulated sinusoid (Russian)"
   ]
  },
  {
   "cell_type": "code",
   "execution_count": null,
   "metadata": {},
   "outputs": [],
   "source": [
    "# Generate Russian waveform\n",
    "def generate_russian(\n",
    "    amplitude: float, # Amplitude of sinusoid; mA\n",
    "    frequency_sine: int, # Frequency of sinusoid; Hz\n",
    "    frequency_square: int, # Frequency of modulating square wave; Hz\n",
    "    pulsewidth_square: int # Width of modulating square wave; us\n",
    ") -> (np.ndarray, np.ndarray):\n",
    "    '''\n",
    "    Generate Russian waveform\n",
    "    Sinusoidal waveform modulated by square waves\n",
    "    Args:\n",
    "        amplitude: float; amplitude of sinusoid (mA)\n",
    "        frequency_sine: int; frequency of sinusoid (Hz)\n",
    "        frequency_square: int; frequency of modulating square wave (Hz)\n",
    "        pulsewidth_square: int; width of modulating square wave (us)\n",
    "    Returns:\n",
    "        v: ndarray; output at each timepoint (mA)\n",
    "        t: ndarray; corresponding timepoints (us)\n",
    "    '''\n",
    "    # Get period and interval\n",
    "    period_square = 1000000 / frequency_square\n",
    "    interval_square = period_square - pulsewidth_square\n",
    "    num_samples = pulsewidth_square / 10 # 10us per sample\n",
    "    \n",
    "    # Get cycles per window\n",
    "    cycles_per_window = frequency_sine / frequency_square\n",
    "    \n",
    "    # Get time\n",
    "    t = np.linspace(0, pulsewidth_square/1000000, num=int(num_samples))\n",
    "    \n",
    "    # Get sinusoid\n",
    "    v = np.sin(2 * np.pi * frequency_sine * t) * amplitude\n",
    "    \n",
    "    # Add interval\n",
    "    v = np.concatenate((v, np.zeros(int(interval_square/10), dtype=int)))\n",
    "    \n",
    "    # Get total time\n",
    "    t = np.linspace(0, len(v)*10, num=len(v))\n",
    "    \n",
    "    return v, t"
   ]
  },
  {
   "cell_type": "code",
   "execution_count": null,
   "metadata": {},
   "outputs": [
    {
     "data": {
      "image/png": "[encoded data removed]",
      "text/plain": [
       "<Figure size 432x288 with 1 Axes>"
      ]
     },
     "metadata": {},
     "output_type": "display_data"
    }
   ],
   "source": [
    "# Generate Russian waveform\n",
    "v, t = generate_russian(\n",
    "    40, # mA\n",
    "    5000, # Hz\n",
    "    40, # Hz (modulating)\n",
    "    1000 # us\n",
    ")\n",
    "\n",
    "plot_waveforms(t, v)"
   ]
  },
  {
   "cell_type": "code",
   "execution_count": null,
   "metadata": {},
   "outputs": [
    {
     "ename": "KeyboardInterrupt",
     "evalue": "",
     "output_type": "error",
     "traceback": [
      "\u001b[0;31m---------------------------------------------------------------------------\u001b[0m",
      "\u001b[0;31mKeyboardInterrupt\u001b[0m                         Traceback (most recent call last)",
      "\u001b[0;32m<ipython-input-380-6a78b7251c18>\u001b[0m in \u001b[0;36m<module>\u001b[0;34m\u001b[0m\n\u001b[1;32m      1\u001b[0m \u001b[0;31m# Send to device\u001b[0m\u001b[0;34m\u001b[0m\u001b[0;34m\u001b[0m\u001b[0;34m\u001b[0m\u001b[0m\n\u001b[1;32m      2\u001b[0m \u001b[0mv_\u001b[0m\u001b[0;34m,\u001b[0m \u001b[0mt_\u001b[0m \u001b[0;34m=\u001b[0m \u001b[0mconvert_waveform\u001b[0m\u001b[0;34m(\u001b[0m\u001b[0mv\u001b[0m\u001b[0;34m,\u001b[0m \u001b[0mt\u001b[0m\u001b[0;34m)\u001b[0m\u001b[0;34m\u001b[0m\u001b[0;34m\u001b[0m\u001b[0m\n\u001b[0;32m----> 3\u001b[0;31m \u001b[0mdevice\u001b[0m\u001b[0;34m.\u001b[0m\u001b[0msend_waveform\u001b[0m\u001b[0;34m(\u001b[0m\u001b[0mv_\u001b[0m\u001b[0;34m,\u001b[0m \u001b[0mt_\u001b[0m\u001b[0;34m)\u001b[0m\u001b[0;34m\u001b[0m\u001b[0;34m\u001b[0m\u001b[0m\n\u001b[0m\u001b[1;32m      4\u001b[0m \u001b[0mdevice\u001b[0m\u001b[0;34m.\u001b[0m\u001b[0mstart\u001b[0m\u001b[0;34m(\u001b[0m\u001b[0;34m)\u001b[0m\u001b[0;34m\u001b[0m\u001b[0;34m\u001b[0m\u001b[0m\n\u001b[1;32m      5\u001b[0m \u001b[0mtime\u001b[0m\u001b[0;34m.\u001b[0m\u001b[0msleep\u001b[0m\u001b[0;34m(\u001b[0m\u001b[0;36m5\u001b[0m\u001b[0;34m)\u001b[0m\u001b[0;34m\u001b[0m\u001b[0;34m\u001b[0m\u001b[0m\n",
      "\u001b[0;32m<ipython-input-376-2ca5a156b3fc>\u001b[0m in \u001b[0;36msend_waveform\u001b[0;34m(self, v, t)\u001b[0m\n\u001b[1;32m    147\u001b[0m \u001b[0;34m\u001b[0m\u001b[0m\n\u001b[1;32m    148\u001b[0m         \u001b[0;31m# Send V to buffer 1\u001b[0m\u001b[0;34m\u001b[0m\u001b[0;34m\u001b[0m\u001b[0;34m\u001b[0m\u001b[0m\n\u001b[0;32m--> 149\u001b[0;31m         \u001b[0mself\u001b[0m\u001b[0;34m.\u001b[0m\u001b[0msendMessage\u001b[0m\u001b[0;34m(\u001b[0m\u001b[0mv_buffer\u001b[0m\u001b[0;34m)\u001b[0m\u001b[0;34m\u001b[0m\u001b[0;34m\u001b[0m\u001b[0m\n\u001b[0m\u001b[1;32m    150\u001b[0m \u001b[0;34m\u001b[0m\u001b[0m\n\u001b[1;32m    151\u001b[0m         \u001b[0;31m# End buffer\u001b[0m\u001b[0;34m\u001b[0m\u001b[0;34m\u001b[0m\u001b[0;34m\u001b[0m\u001b[0m\n",
      "\u001b[0;32m<ipython-input-376-2ca5a156b3fc>\u001b[0m in \u001b[0;36msendMessage\u001b[0;34m(self, message)\u001b[0m\n\u001b[1;32m     92\u001b[0m         \u001b[0mTakes\u001b[0m \u001b[0mmessage\u001b[0m \u001b[0mto\u001b[0m \u001b[0msend\u001b[0m\u001b[0;34m\u001b[0m\u001b[0;34m\u001b[0m\u001b[0m\n\u001b[1;32m     93\u001b[0m         '''\n\u001b[0;32m---> 94\u001b[0;31m         \u001b[0mself\u001b[0m\u001b[0;34m.\u001b[0m\u001b[0mser\u001b[0m\u001b[0;34m.\u001b[0m\u001b[0mwrite\u001b[0m\u001b[0;34m(\u001b[0m\u001b[0mmessage\u001b[0m\u001b[0;34m.\u001b[0m\u001b[0mencode\u001b[0m\u001b[0;34m(\u001b[0m\u001b[0;34m)\u001b[0m\u001b[0;34m)\u001b[0m\u001b[0;34m\u001b[0m\u001b[0;34m\u001b[0m\u001b[0m\n\u001b[0m\u001b[1;32m     95\u001b[0m \u001b[0;34m\u001b[0m\u001b[0m\n\u001b[1;32m     96\u001b[0m     \u001b[0;31m# Check inputs are appropriate\u001b[0m\u001b[0;34m\u001b[0m\u001b[0;34m\u001b[0m\u001b[0;34m\u001b[0m\u001b[0m\n",
      "\u001b[0;32m~/anaconda3/lib/python3.8/site-packages/serial/serialposix.py\u001b[0m in \u001b[0;36mwrite\u001b[0;34m(self, data)\u001b[0m\n\u001b[1;32m    638\u001b[0m                     \u001b[0;32massert\u001b[0m \u001b[0mtimeout\u001b[0m\u001b[0;34m.\u001b[0m\u001b[0mtime_left\u001b[0m\u001b[0;34m(\u001b[0m\u001b[0;34m)\u001b[0m \u001b[0;32mis\u001b[0m \u001b[0;32mNone\u001b[0m\u001b[0;34m\u001b[0m\u001b[0;34m\u001b[0m\u001b[0m\n\u001b[1;32m    639\u001b[0m                     \u001b[0;31m# wait for write operation\u001b[0m\u001b[0;34m\u001b[0m\u001b[0;34m\u001b[0m\u001b[0;34m\u001b[0m\u001b[0m\n\u001b[0;32m--> 640\u001b[0;31m                     \u001b[0mabort\u001b[0m\u001b[0;34m,\u001b[0m \u001b[0mready\u001b[0m\u001b[0;34m,\u001b[0m \u001b[0m_\u001b[0m \u001b[0;34m=\u001b[0m \u001b[0mselect\u001b[0m\u001b[0;34m.\u001b[0m\u001b[0mselect\u001b[0m\u001b[0;34m(\u001b[0m\u001b[0;34m[\u001b[0m\u001b[0mself\u001b[0m\u001b[0;34m.\u001b[0m\u001b[0mpipe_abort_write_r\u001b[0m\u001b[0;34m]\u001b[0m\u001b[0;34m,\u001b[0m \u001b[0;34m[\u001b[0m\u001b[0mself\u001b[0m\u001b[0;34m.\u001b[0m\u001b[0mfd\u001b[0m\u001b[0;34m]\u001b[0m\u001b[0;34m,\u001b[0m \u001b[0;34m[\u001b[0m\u001b[0;34m]\u001b[0m\u001b[0;34m,\u001b[0m \u001b[0;32mNone\u001b[0m\u001b[0;34m)\u001b[0m\u001b[0;34m\u001b[0m\u001b[0;34m\u001b[0m\u001b[0m\n\u001b[0m\u001b[1;32m    641\u001b[0m                     \u001b[0;32mif\u001b[0m \u001b[0mabort\u001b[0m\u001b[0;34m:\u001b[0m\u001b[0;34m\u001b[0m\u001b[0;34m\u001b[0m\u001b[0m\n\u001b[1;32m    642\u001b[0m                         \u001b[0mos\u001b[0m\u001b[0;34m.\u001b[0m\u001b[0mread\u001b[0m\u001b[0;34m(\u001b[0m\u001b[0mself\u001b[0m\u001b[0;34m.\u001b[0m\u001b[0mpipe_abort_write_r\u001b[0m\u001b[0;34m,\u001b[0m \u001b[0;36m1\u001b[0m\u001b[0;34m)\u001b[0m\u001b[0;34m\u001b[0m\u001b[0;34m\u001b[0m\u001b[0m\n",
      "\u001b[0;31mKeyboardInterrupt\u001b[0m: "
     ]
    }
   ],
   "source": [
    "# Send to device\n",
    "v_, t_ = convert_waveform(v, t)\n",
    "device.send_waveform(v_, t_)\n",
    "device.start()\n",
    "time.sleep(5)\n",
    "device.stop()"
   ]
  },
  {
   "cell_type": "markdown",
   "metadata": {},
   "source": [
    "### Gaussian-modulated sinusoid (Wavelet)"
   ]
  },
  {
   "cell_type": "code",
   "execution_count": null,
   "metadata": {},
   "outputs": [],
   "source": [
    "# Generate wavelet waveform\n",
    "def generate_wavelet(\n",
    "    amplitude: float, # Amplitude of sinusoid: mA\n",
    "    frequency_sine: int, # Frequency of sinusoid; Hz\n",
    "    frequency_wavelet: int, # Frequency of wavelets; Hz\n",
    "    wavelet_sigma: int, # Width of wavelet; us\n",
    ") -> (np.ndarray, np.ndarray):\n",
    "    '''\n",
    "    Generate wavelet waveform\n",
    "    Sinusoidal waveform modulated by Gaussian\n",
    "    Args:\n",
    "        amplitude: float; amplitude of sinusoid (mA)\n",
    "        frequency_sine: int; frequency of sinusoid (Hz)\n",
    "        frequency_wavelet: int; frequency of wavelets (Hz)\n",
    "        wavelet_width: int; width of wavelet (us)\n",
    "    Returns:\n",
    "        v: ndarray; output at each timepoint (mA)\n",
    "        t: ndarray; corresponding timepoints (us)\n",
    "    '''\n",
    "    # Get total length\n",
    "    period_wavelet = 1000000 / frequency_wavelet\n",
    "    num_samples = period_wavelet / 10 # 10us per sample\n",
    "    t = np.linspace(0, period_wavelet, num=int(num_samples))\n",
    "    \n",
    "    # Get sinusoid over total duration\n",
    "    v = np.sin(2 * np.pi * frequency_sine * t) * amplitude\n",
    "    \n",
    "    # Get Gaussian over total duration\n",
    "    midpoint = int(period_wavelet/2)\n",
    "    wavelet = np.exp(-((t - midpoint)**2) / (2 * (wavelet_sigma**2)))\n",
    "    \n",
    "    # Modulate sinusoid with Gaussian\n",
    "    v = v * wavelet\n",
    "    \n",
    "    return v, t"
   ]
  },
  {
   "cell_type": "code",
   "execution_count": null,
   "metadata": {},
   "outputs": [
    {
     "data": {
      "image/png": "[encoded data removed]",
      "text/plain": [
       "<Figure size 432x288 with 1 Axes>"
      ]
     },
     "metadata": {},
     "output_type": "display_data"
    }
   ],
   "source": [
    "# Generate wavelet waveform\n",
    "v, t = generate_wavelet(\n",
    "    10, # mA\n",
    "    2500, # Hz\n",
    "    100, # Hz (modulating)\n",
    "    1500 # Standard deviation\n",
    ")\n",
    "\n",
    "plot_waveforms(t, v)"
   ]
  },
  {
   "cell_type": "code",
   "execution_count": null,
   "metadata": {},
   "outputs": [],
   "source": [
    "# Send to device\n",
    "v_, t_ = convert_waveform(v, t)\n",
    "device.send_waveform(v_, t_)\n",
    "device.start()\n",
    "time.sleep(15)\n",
    "device.stop()"
   ]
  },
  {
   "cell_type": "markdown",
   "metadata": {},
   "source": [
    "### Sinusoid-modulated wavelet"
   ]
  },
  {
   "cell_type": "code",
   "execution_count": null,
   "metadata": {},
   "outputs": [],
   "source": [
    "# Generate modulated wavelet waveform\n",
    "def generate_wavelet_modulated(\n",
    "    amplitude: float, # Amplitude of sinusoid: mA\n",
    "    frequency_sine: int, # Frequency of sinusoid; Hz\n",
    "    frequency_wavelet: int, # Frequency of wavelets; Hz\n",
    "    wavelet_sigma: int, # Width of wavelet; us\n",
    ") -> (np.ndarray, np.ndarray):\n",
    "    '''\n",
    "    Generate wavelet waveform\n",
    "    Sinusoidal waveform modulated by Gaussian\n",
    "    Args:\n",
    "        amplitude: float; amplitude of sinusoid (mA)\n",
    "        frequency_sine: int; frequency of sinusoid (Hz)\n",
    "        frequency_wavelet: int; frequency of wavelets (Hz)\n",
    "        wavelet_width: int; width of wavelet (us)\n",
    "    Returns:\n",
    "        v: ndarray; output at each timepoint (mA)\n",
    "        t: ndarray; corresponding timepoints (us)\n",
    "    '''\n",
    "    # Get total length\n",
    "    period_wavelet = 1000000 / frequency_wavelet\n",
    "    num_samples = period_wavelet / 10 # 10us per sample\n",
    "    t = np.linspace(0, period_wavelet, num=int(num_samples))\n",
    "    \n",
    "    # Get sinusoid over total duration\n",
    "    v = np.sin(2 * np.pi * frequency_sine * t) * amplitude\n",
    "    \n",
    "    # Get Gaussian over total duration\n",
    "    midpoint = int(period_wavelet/2)\n",
    "    wavelet = np.exp(-((t - midpoint)**2) / (2 * (wavelet_sigma**2)))\n",
    "    \n",
    "    # Get modulating sinusoid\n",
    "    modulating_sine = np.sin(2 * np.pi * frequency_wavelet * t/1000000)*amplitude/3\n",
    "    \n",
    "    # Modulate sinusoid with Gaussian\n",
    "    v = v * wavelet\n",
    "    \n",
    "    # Modulate with sinusoid\n",
    "    v = v + modulating_sine\n",
    "    \n",
    "    return v, t, modulating_sine"
   ]
  },
  {
   "cell_type": "code",
   "execution_count": null,
   "metadata": {},
   "outputs": [
    {
     "data": {
      "image/png": "[encoded data removed]",
      "text/plain": [
       "<Figure size 432x288 with 1 Axes>"
      ]
     },
     "metadata": {},
     "output_type": "display_data"
    }
   ],
   "source": [
    "# Generate wavelet waveform\n",
    "v, t, m = generate_wavelet_modulated(\n",
    "    10, # mA\n",
    "    5000, # Hz\n",
    "    40, # Hz (modulating)\n",
    "    5000 # Standard deviation\n",
    ")\n",
    "\n",
    "plot_waveforms(t, v)"
   ]
  },
  {
   "cell_type": "code",
   "execution_count": null,
   "metadata": {},
   "outputs": [],
   "source": [
    "# Send to device\n",
    "v_, t_ = convert_waveform(v, t)\n",
    "device.send_waveform(v_, t_)\n",
    "device.start()\n",
    "time.sleep(15)\n",
    "device.stop()"
   ]
  },
  {
   "cell_type": "code",
   "execution_count": null,
   "metadata": {},
   "outputs": [],
   "source": []
  },
  {
   "cell_type": "code",
   "execution_count": null,
   "metadata": {},
   "outputs": [],
   "source": []
  },
  {
   "cell_type": "code",
   "execution_count": null,
   "metadata": {},
   "outputs": [],
   "source": []
  },
  {
   "cell_type": "code",
   "execution_count": null,
   "metadata": {},
   "outputs": [],
   "source": [
    "#|eval: false\n",
    "v = np.array([0, 2000, 0, 4000, 0])\n",
    "t = np.array([0, 25000, 25100, 50000, 50100])\n",
    "\n",
    "device.send_waveform(v, t)\n",
    "\n",
    "device.start()\n",
    "time.sleep(50)\n",
    "device.stop()"
   ]
  },
  {
   "cell_type": "code",
   "execution_count": null,
   "metadata": {},
   "outputs": [],
   "source": [
    "#|echo:false\n",
    "v_ = [v[0]]\n",
    "t_ = [t[0]]\n",
    "\n",
    "for idx, val in enumerate(v[1:]):\n",
    "    v_.append(v[idx-1])\n",
    "    t_.append(t[idx])\n",
    "    v_.append(v[idx])\n",
    "    t_.append(t[idx])\n",
    "    \n",
    "for _ in range(2):\n",
    "    t_.extend(t_ + t_[-1])\n",
    "    v_.extend(v_)\n",
    "\n",
    "for idx, val in enumerate(t_):\n",
    "    t_[idx] = val/1000"
   ]
  },
  {
   "cell_type": "code",
   "execution_count": null,
   "metadata": {},
   "outputs": [
    {
     "data": {
      "image/png": "[encoded data removed]",
      "text/plain": [
       "<Figure size 800x200 with 1 Axes>"
      ]
     },
     "metadata": {},
     "output_type": "display_data"
    }
   ],
   "source": [
    "#|echo:false\n",
    "#|classes: light-mode\n",
    "\n",
    "bg_colour = '#fff'\n",
    "line_colour = '#002147'\n",
    "\n",
    "fig, ax = plt.subplots(figsize=(8,2))\n",
    "\n",
    "ax.plot(t_, v_, color=line_colour)\n",
    "\n",
    "ax.set(\n",
    "    yticks = (0, np.max(v)),\n",
    "    yticklabels = ['0', '3.3V'],\n",
    "    #xlim = (0, 0.5),\n",
    "    xlabel = 'Time (ms)'\n",
    ")\n",
    "\n",
    "sns.despine(ax=ax, offset=10, trim=True)\n",
    "\n",
    "ax.xaxis.label.set_color(line_colour)\n",
    "ax.yaxis.label.set_color(line_colour)\n",
    "    \n",
    "ax.tick_params(axis='x', colors=line_colour)\n",
    "ax.tick_params(axis='y', colors=line_colour)\n",
    "    \n",
    "ax.spines['left'].set_color(line_colour)\n",
    "ax.spines['bottom'].set_color(line_colour)\n",
    "    \n",
    "ax.set_facecolor(bg_colour)\n",
    "fig.patch.set_facecolor(bg_colour)\n",
    "\n",
    "fig.tight_layout()\n",
    "fig.savefig('tonic.png')"
   ]
  },
  {
   "cell_type": "markdown",
   "metadata": {},
   "source": [
    "### Tonic stimulation"
   ]
  },
  {
   "cell_type": "code",
   "execution_count": null,
   "metadata": {},
   "outputs": [],
   "source": [
    "v = np.array([4000, 0, 4000, 0, 4000, 0, 0])\n",
    "t = np.array([0, 500, 1000, 1500, 2000, 2500, 3000])\n",
    "\n",
    "device.send_waveform(v, t)\n",
    "\n",
    "device.start()\n",
    "time.sleep(3)\n",
    "device.stop()"
   ]
  },
  {
   "cell_type": "code",
   "execution_count": null,
   "metadata": {},
   "outputs": [],
   "source": [
    "#|echo:false\n",
    "v_ = [v[0]]\n",
    "t_ = [t[0]]\n",
    "\n",
    "for idx, val in enumerate(v[1:]):\n",
    "    v_.append(v[idx-1])\n",
    "    t_.append(t[idx])\n",
    "    v_.append(v[idx])\n",
    "    t_.append(t[idx])\n",
    "    \n",
    "for _ in range(2):\n",
    "    t_.extend(t_ + t_[-1])\n",
    "    v_.extend(v_)\n",
    "\n",
    "for idx, val in enumerate(t_):\n",
    "    t_[idx] = val/1000"
   ]
  },
  {
   "cell_type": "code",
   "execution_count": null,
   "metadata": {},
   "outputs": [
    {
     "data": {
      "image/png": "[encoded data removed]",
      "text/plain": [
       "<Figure size 800x200 with 1 Axes>"
      ]
     },
     "metadata": {},
     "output_type": "display_data"
    }
   ],
   "source": [
    "#|echo:false\n",
    "#|classes: light-mode\n",
    "\n",
    "bg_colour = '#fff'\n",
    "line_colour = '#002147'\n",
    "\n",
    "fig, ax = plt.subplots(figsize=(8,2))\n",
    "\n",
    "ax.plot(t_, v_, color=line_colour)\n",
    "\n",
    "ax.set(\n",
    "    yticks = (0, np.max(v)),\n",
    "    yticklabels = ['0', '3.3V'],\n",
    "    #xlim = (0, 0.5),\n",
    "    xlabel = 'Time (ms)'\n",
    ")\n",
    "\n",
    "sns.despine(ax=ax, offset=10, trim=True)\n",
    "\n",
    "ax.xaxis.label.set_color(line_colour)\n",
    "ax.yaxis.label.set_color(line_colour)\n",
    "    \n",
    "ax.tick_params(axis='x', colors=line_colour)\n",
    "ax.tick_params(axis='y', colors=line_colour)\n",
    "    \n",
    "ax.spines['left'].set_color(line_colour)\n",
    "ax.spines['bottom'].set_color(line_colour)\n",
    "    \n",
    "ax.set_facecolor(bg_colour)\n",
    "fig.patch.set_facecolor(bg_colour)\n",
    "\n",
    "fig.tight_layout()\n",
    "fig.savefig('highfreq.png')"
   ]
  },
  {
   "cell_type": "markdown",
   "metadata": {},
   "source": [
    "### High frequency stimulation"
   ]
  },
  {
   "cell_type": "markdown",
   "metadata": {},
   "source": [
    "### Burst stimulation"
   ]
  },
  {
   "cell_type": "code",
   "execution_count": null,
   "metadata": {},
   "outputs": [],
   "source": [
    "v = np.array([0, 4000, 0, 4000, 0, 4000, 0, 4000, 0, 4000, 0, 0])\n",
    "t = np.array([0, 100, 1100, 2100, 3100, 4100, 5100, 6100, 7100, 8100, 9100, 24900])"
   ]
  },
  {
   "cell_type": "code",
   "execution_count": null,
   "metadata": {},
   "outputs": [],
   "source": [
    "v = np.array([0, 0, \n",
    "              4000, 4000, \n",
    "              0, 0, \n",
    "              4000, 4000, \n",
    "              0, 0, \n",
    "              4000, 4000, \n",
    "              0, 0,\n",
    "              4000, 4000,\n",
    "              0, 0,\n",
    "              4000, 4000,\n",
    "              0, 0\n",
    "             ])\n",
    "\n",
    "t = np.array([0, 100,\n",
    "              100, 1100,\n",
    "              1100, 2100,\n",
    "              2100, 3100,\n",
    "              3100, 4100,\n",
    "              4100, 5100,\n",
    "              5100, 6100,\n",
    "              6100, 7100,\n",
    "              7100, 8100,\n",
    "              8100, 9100,\n",
    "              9100, 24900\n",
    "             ])\n",
    "    "
   ]
  },
  {
   "cell_type": "code",
   "execution_count": null,
   "metadata": {},
   "outputs": [],
   "source": [
    "device.send_waveform(v, t)\n",
    "\n",
    "device.start()\n",
    "time.sleep(3)\n",
    "device.stop()"
   ]
  },
  {
   "cell_type": "code",
   "execution_count": null,
   "metadata": {},
   "outputs": [],
   "source": [
    "#|echo:false\n",
    "v_ = np.array([0])\n",
    "t_ = np.array([0])\n",
    "\n",
    "for _ in range(3):\n",
    "    v_ = np.concatenate((v_, v))\n",
    "    t_ = np.concatenate((t_, t+t_[-1]))\n",
    "\n",
    "t_ = t_/1000"
   ]
  },
  {
   "cell_type": "code",
   "execution_count": null,
   "metadata": {},
   "outputs": [
    {
     "data": {
      "image/png": "[encoded data removed]",
      "text/plain": [
       "<Figure size 800x200 with 1 Axes>"
      ]
     },
     "metadata": {},
     "output_type": "display_data"
    }
   ],
   "source": [
    "#|echo:false\n",
    "#|classes: light-mode\n",
    "\n",
    "bg_colour = '#fff'\n",
    "line_colour = '#002147'\n",
    "\n",
    "fig, ax = plt.subplots(figsize=(8,2))\n",
    "\n",
    "ax.plot(t_, v_, color=line_colour)\n",
    "\n",
    "ax.set(\n",
    "    yticks = (0, np.max(v)),\n",
    "    yticklabels = ['0', '3.3V'],\n",
    "    #xlim = (0, 0.5),\n",
    "    xlabel = 'Time (ms)'\n",
    ")\n",
    "\n",
    "sns.despine(ax=ax, offset=10, trim=True)\n",
    "\n",
    "ax.xaxis.label.set_color(line_colour)\n",
    "ax.yaxis.label.set_color(line_colour)\n",
    "    \n",
    "ax.tick_params(axis='x', colors=line_colour)\n",
    "ax.tick_params(axis='y', colors=line_colour)\n",
    "    \n",
    "ax.spines['left'].set_color(line_colour)\n",
    "ax.spines['bottom'].set_color(line_colour)\n",
    "    \n",
    "ax.set_facecolor(bg_colour)\n",
    "fig.patch.set_facecolor(bg_colour)\n",
    "\n",
    "fig.tight_layout()\n",
    "fig.savefig('burst.png')"
   ]
  },
  {
   "cell_type": "markdown",
   "metadata": {},
   "source": [
    "## Arbitrary waveforms"
   ]
  },
  {
   "cell_type": "code",
   "execution_count": null,
   "metadata": {},
   "outputs": [],
   "source": [
    "v = np.concatenate((np.linspace(0, 2000, 50), np.linspace(2000, 0, 50))).astype(int)\n",
    "t = np.linspace(0, 100000, 100).astype(int)\n",
    "\n",
    "device.send_waveform(v, t)\n",
    "\n",
    "device.start()\n",
    "time.sleep(3)\n",
    "device.stop()"
   ]
  },
  {
   "cell_type": "code",
   "execution_count": null,
   "metadata": {},
   "outputs": [],
   "source": [
    "#|echo:false\n",
    "v_ = np.array([0])\n",
    "t_ = np.array([0])\n",
    "\n",
    "for _ in range(3):\n",
    "    v_ = np.concatenate((v_, v))\n",
    "    t_ = np.concatenate((t_, t+t_[-1]))\n",
    "\n",
    "t_ = t_/1000"
   ]
  },
  {
   "cell_type": "markdown",
   "metadata": {},
   "source": [
    "### Sawtooth stimulation"
   ]
  },
  {
   "cell_type": "code",
   "execution_count": null,
   "metadata": {},
   "outputs": [
    {
     "data": {
      "image/png": "[encoded data removed]",
      "text/plain": [
       "<Figure size 800x200 with 1 Axes>"
      ]
     },
     "metadata": {},
     "output_type": "display_data"
    }
   ],
   "source": [
    "#|echo:false\n",
    "#|classes: light-mode\n",
    "\n",
    "bg_colour = '#fff'\n",
    "line_colour = '#002147'\n",
    "\n",
    "fig, ax = plt.subplots(figsize=(8,2))\n",
    "\n",
    "ax.plot(t_, v_, color=line_colour)\n",
    "\n",
    "ax.set(\n",
    "    yticks = (0, np.max(v)),\n",
    "    yticklabels = ['0', '3.3V'],\n",
    "    #xlim = (0, 0.5),\n",
    "    xlabel = 'Time (ms)'\n",
    ")\n",
    "\n",
    "sns.despine(ax=ax, offset=10, trim=True)\n",
    "\n",
    "ax.xaxis.label.set_color(line_colour)\n",
    "ax.yaxis.label.set_color(line_colour)\n",
    "    \n",
    "ax.tick_params(axis='x', colors=line_colour)\n",
    "ax.tick_params(axis='y', colors=line_colour)\n",
    "    \n",
    "ax.spines['left'].set_color(line_colour)\n",
    "ax.spines['bottom'].set_color(line_colour)\n",
    "    \n",
    "ax.set_facecolor(bg_colour)\n",
    "fig.patch.set_facecolor(bg_colour)\n",
    "\n",
    "fig.tight_layout()\n",
    "fig.savefig('triangle.png')"
   ]
  },
  {
   "cell_type": "markdown",
   "metadata": {},
   "source": [
    "### Sinusoidal stimulation"
   ]
  },
  {
   "cell_type": "code",
   "execution_count": null,
   "metadata": {},
   "outputs": [],
   "source": [
    "T = 1\n",
    "fs = 4000\n",
    "t = np.linspace(0, T, T*fs, endpoint=False)\n",
    "\n",
    "f = 100\n",
    "v = np.sin(2 * np.pi * f * t) * 4000"
   ]
  },
  {
   "cell_type": "code",
   "execution_count": null,
   "metadata": {},
   "outputs": [],
   "source": [
    "t_ = t * 1000000\n",
    "t_ = t_[:40].astype(int)\n",
    "v_ = v[:40].astype(int)"
   ]
  },
  {
   "cell_type": "code",
   "execution_count": null,
   "metadata": {},
   "outputs": [],
   "source": [
    "device.send_waveform(v_, t_)\n",
    "\n",
    "device.start()\n",
    "time.sleep(3)\n",
    "device.stop()"
   ]
  },
  {
   "cell_type": "code",
   "execution_count": null,
   "metadata": {},
   "outputs": [
    {
     "data": {
      "image/png": "[encoded data removed]",
      "text/plain": [
       "<Figure size 800x200 with 1 Axes>"
      ]
     },
     "metadata": {},
     "output_type": "display_data"
    }
   ],
   "source": [
    "#|echo:false\n",
    "#|classes: light-mode\n",
    "\n",
    "bg_colour = '#fff'\n",
    "line_colour = '#002147'\n",
    "\n",
    "fig, ax = plt.subplots(figsize=(8,2))\n",
    "\n",
    "ax.plot(t_/1000, v_, color=line_colour)\n",
    "\n",
    "ax.set(\n",
    "    yticks = (np.min(v), np.max(v)),\n",
    "    yticklabels = ['0', '3.3V'],\n",
    "    #xlim = (0, 0.5),\n",
    "    xlabel = 'Time (ms)'\n",
    ")\n",
    "\n",
    "sns.despine(ax=ax, offset=10, trim=True)\n",
    "\n",
    "ax.xaxis.label.set_color(line_colour)\n",
    "ax.yaxis.label.set_color(line_colour)\n",
    "    \n",
    "ax.tick_params(axis='x', colors=line_colour)\n",
    "ax.tick_params(axis='y', colors=line_colour)\n",
    "    \n",
    "ax.spines['left'].set_color(line_colour)\n",
    "ax.spines['bottom'].set_color(line_colour)\n",
    "    \n",
    "ax.set_facecolor(bg_colour)\n",
    "fig.patch.set_facecolor(bg_colour)\n",
    "\n",
    "fig.tight_layout()\n",
    "fig.savefig('sine.png')"
   ]
  },
  {
   "cell_type": "markdown",
   "metadata": {},
   "source": [
    "### Complex waveforms"
   ]
  },
  {
   "cell_type": "code",
   "execution_count": null,
   "metadata": {},
   "outputs": [],
   "source": []
  },
  {
   "cell_type": "code",
   "execution_count": null,
   "metadata": {},
   "outputs": [],
   "source": []
  },
  {
   "cell_type": "code",
   "execution_count": null,
   "metadata": {},
   "outputs": [],
   "source": []
  },
  {
   "cell_type": "markdown",
   "metadata": {},
   "source": [
    "::: {.dark-mode}\n",
    "![Oxford Neural Interfacing 2023](oni.png)\n",
    ":::"
   ]
  },
  {
   "cell_type": "markdown",
   "metadata": {},
   "source": [
    "::: {.light-mode}\n",
    "![Oxford Neural Interfacing 2023](oni_blue.png)\n",
    ":::"
   ]
  },
  {
   "cell_type": "code",
   "execution_count": null,
   "metadata": {},
   "outputs": [],
   "source": [
    "#| hide\n",
    "import nbdev; nbdev.nbdev_export()"
   ]
  }
 ],
 "metadata": {
  "kernelspec": {
   "display_name": "python3",
   "language": "python",
   "name": "python3"
  }
 },
 "nbformat": 4,
 "nbformat_minor": 4
}
