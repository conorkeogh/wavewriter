{
 "cells": [
  {
   "cell_type": "markdown",
   "metadata": {},
   "source": [
    "# Initialisation\n",
    "\n",
    "> Setting up the device to synchronise systems"
   ]
  },
  {
   "cell_type": "code",
   "execution_count": null,
   "metadata": {},
   "outputs": [],
   "source": [
    "#| default_exp device"
   ]
  },
  {
   "cell_type": "code",
   "execution_count": null,
   "metadata": {},
   "outputs": [],
   "source": [
    "#| hide\n",
    "from nbdev.showdoc import *\n",
    "\n",
    "# Import required libraries\n",
    "import serial\n",
    "import serial.tools.list_ports\n",
    "import time\n",
    "import numpy as np"
   ]
  },
  {
   "cell_type": "markdown",
   "metadata": {},
   "source": [
    "The software drivers provide a simple interface to communicate with the device in order to send event signals from behavioural tasks to synchronise with recorded data."
   ]
  },
  {
   "cell_type": "markdown",
   "metadata": {},
   "source": [
    "## Importing the drivers\n",
    "Once installed, the drivers can be imported into the task script like any package."
   ]
  },
  {
   "cell_type": "code",
   "execution_count": null,
   "metadata": {},
   "outputs": [],
   "source": [
    "# Import driver package\n",
    "import wavewriter"
   ]
  },
  {
   "cell_type": "markdown",
   "metadata": {},
   "source": [
    "All contents of the driver package can then be accessed using the prefix `syncmaster.`, i.e. the `SyncMaster` object is accessed using `syncmaster.SyncMaster()`.\n",
    "\n",
    "Alternatively, all contents of the package can be imported directly into the present script's namespace:"
   ]
  },
  {
   "cell_type": "code",
   "execution_count": null,
   "metadata": {},
   "outputs": [],
   "source": [
    "# Import all package contents into current namespace\n",
    "from wavewriter import *"
   ]
  },
  {
   "cell_type": "markdown",
   "metadata": {},
   "source": [
    "Package contents can then be accessed using their names directly without the need for a prefix, i.e. `SyncMaster()`.\n",
    "\n",
    "While slightly more convenient, this runs the risk of colliding with function and object names imported from other packages, so we recommend using the package prefix where possible."
   ]
  },
  {
   "cell_type": "markdown",
   "metadata": {},
   "source": [
    "## Creating the device object\n",
    "The software communicates with the device hardware using a software object. All device commands are controlled using this object."
   ]
  },
  {
   "cell_type": "code",
   "execution_count": null,
   "metadata": {},
   "outputs": [],
   "source": [
    "#| export\n",
    "'''\n",
    "    WaveWriter device drivers\n",
    "\n",
    "    Oxford Neural Interfacing\n",
    "    Written by Conor Keogh\n",
    "    conor.keogh@nds.ox.ac.uk\n",
    "    04/03/2024\n",
    "\n",
    "    Provides functions for interacting with WaveWriter device\n",
    "'''\n",
    "\n",
    "'''\n",
    "WaveWriter device class\n",
    "Provide functions to interact with device\n",
    "Finds device and confirms presence\n",
    "Sends messages to device to specify waveforms and start/stop stimulation\n",
    "'''\n",
    "import serial\n",
    "import serial.tools.list_ports\n",
    "import time\n",
    "import numpy as np\n",
    "\n",
    "class WaveWriter:\n",
    "\n",
    "    def __init__(self):\n",
    "        '''\n",
    "        Device object for controlling synchronisation\n",
    "        '''\n",
    "\n",
    "        '''\n",
    "        Define constants for device configuration\n",
    "        '''\n",
    "        # Define messages\n",
    "        self.GREETING = b'Hello'\n",
    "        self.RESPONSE = 'Hi there'\n",
    "        \n",
    "        self.prep1_command = 'prep1'    # Prepare buffer 1 (V)\n",
    "        self.prep2_command = 'prep2'    # Prepare buffer 2 (t)\n",
    "        self.start_command = 'start'    # Start stimulation\n",
    "        self.stop_command = 'stop'      # Stop stimulation\n",
    "    \n",
    "        # Define COM port settings\n",
    "        self.BAUDRATE = 115200\n",
    "        \n",
    "        # Empty arrays for waveform\n",
    "        self.v = np.array([])\n",
    "        self.t = np.array([])\n",
    "        \n",
    "        # Get all serial ports\n",
    "        ports = serial.tools.list_ports.comports()\n",
    "\n",
    "        # For each port: try accessing and checking for acknowledge message\n",
    "        port_found = False\n",
    "        for port in ports:\n",
    "            try:\n",
    "                # Connect to serial port\n",
    "                self.ser = serial.Serial(port.device, self.BAUDRATE, timeout=1, write_timeout=1)\n",
    "\n",
    "                # Send test message and read response; repeat 3 times and keep third\n",
    "                for _ in range(3):\n",
    "                    self.ser.write(self.GREETING)\n",
    "                    response = self.ser.readline()\n",
    "\n",
    "                # Check if response is appropriate\n",
    "                if response.decode().rstrip('\\x00') == self.RESPONSE:\n",
    "                    self.target_port = port.device\n",
    "                    port_found = True\n",
    "\n",
    "                # Close port\n",
    "                self.ser.close()\n",
    "\n",
    "            except Exception as e:\n",
    "                # Do nothing - just ignore failed ports\n",
    "                pass\n",
    "\n",
    "        # If port found: connect to port\n",
    "        if port_found:\n",
    "            self.ser = serial.Serial(self.target_port, self.BAUDRATE, timeout=5)\n",
    "\n",
    "        # If port not found: raise error\n",
    "        else:\n",
    "            raise Exception(\"Device not found\")\n",
    "            #print(\"Device not found\")\n",
    "\n",
    "    ''' Send required messages over serial '''\n",
    "    # Send message via serial port\n",
    "    def sendMessage(self, message):\n",
    "        '''\n",
    "        Send message over serial port\n",
    "        Takes message to send\n",
    "        '''\n",
    "        self.ser.write(message.encode())\n",
    "        \n",
    "    # Check inputs are appropriate\n",
    "    def check_inputs(self, v, t):\n",
    "        # Check types\n",
    "        if type(v) is not np.ndarray:\n",
    "            raise Exception(\"V is not an array\")\n",
    "            \n",
    "        if type(t) is not np.ndarray:\n",
    "            raise Exception(\"t is not an array\")\n",
    "            \n",
    "        # Check dimensions\n",
    "        v = np.squeeze(v)\n",
    "        t = np.squeeze(t)\n",
    "        \n",
    "        if v.ndim > 1:\n",
    "            raise Exception(\"V is not one-dimensional\")\n",
    "            \n",
    "        if t.ndim > 1:\n",
    "            raise Exception(\"t is not one dimensional\")\n",
    "            \n",
    "        # Check lengths are equal\n",
    "        if v.size != t.size:\n",
    "            raise Exception(\"V and t are not of equal lengths\")\n",
    "            \n",
    "        # If appropriate: save V and t to object\n",
    "        self.v = v\n",
    "        self.t = t\n",
    "        \n",
    "    def convert_buffer(self, x):\n",
    "        ''' Convert array to buffer to send '''\n",
    "        # Create emoty string\n",
    "        x_buffer = ''\n",
    "        \n",
    "        # Iterate through array\n",
    "        for value in x[:-1]:\n",
    "            x_buffer += str(value)    # Add to buffer\n",
    "            x_buffer += ','           # Add delimiter\n",
    "        x_buffer += str(x[-1])        # Add last value without delimiter\n",
    "        \n",
    "        return x_buffer\n",
    "            \n",
    "    def send_waveform(self, v, t):\n",
    "        ''' Send waveform data to device '''\n",
    "        # Check inputs are appropriate\n",
    "        self.check_inputs(v, t)\n",
    "        \n",
    "        # Convert to string buffers to send\n",
    "        v_buffer = self.convert_buffer(v)\n",
    "        t_buffer = self.convert_buffer(t)\n",
    "        \n",
    "        # Prepare to send first buffer\n",
    "        self.sendMessage(self.prep1_command)\n",
    "        \n",
    "        # Send V to buffer 1\n",
    "        self.sendMessage(v_buffer)\n",
    "        \n",
    "        # Prepare to send second buffer\n",
    "        self.sendMessage(self.prep2_command)\n",
    "        \n",
    "        # Send t to buffer 2\n",
    "        self.sendMessage(t_buffer)\n",
    "        \n",
    "    def start(self):\n",
    "        ''' Send start signal '''\n",
    "        self.sendMessage(self.start_command)\n",
    "\n",
    "    def stop(self):\n",
    "        ''' Send end signal '''\n",
    "        self.sendMessage(self.stop_command)\n",
    "\n",
    "    # Close channel\n",
    "    def close(self):\n",
    "        '''\n",
    "        Closes device connection\n",
    "        '''\n",
    "        self.ser.close()"
   ]
  },
  {
   "cell_type": "markdown",
   "metadata": {},
   "source": [
    "In order to use the device in a task script, we must first create the device object. This should be done once at the beginning of the script."
   ]
  },
  {
   "cell_type": "code",
   "execution_count": null,
   "metadata": {},
   "outputs": [
    {
     "ename": "AttributeError",
     "evalue": "module 'wavewriter' has no attribute 'WaveWriter'",
     "output_type": "error",
     "traceback": [
      "\u001b[0;31m---------------------------------------------------------------------------\u001b[0m",
      "\u001b[0;31mAttributeError\u001b[0m                            Traceback (most recent call last)",
      "Cell \u001b[0;32mIn[5], line 3\u001b[0m\n\u001b[1;32m      1\u001b[0m \u001b[38;5;66;03m#|eval: false\u001b[39;00m\n\u001b[1;32m      2\u001b[0m \u001b[38;5;66;03m# Create device object\u001b[39;00m\n\u001b[0;32m----> 3\u001b[0m device \u001b[38;5;241m=\u001b[39m wavewriter\u001b[38;5;241m.\u001b[39mWaveWriter()\n",
      "\u001b[0;31mAttributeError\u001b[0m: module 'wavewriter' has no attribute 'WaveWriter'"
     ]
    }
   ],
   "source": [
    "#|eval: false\n",
    "# Create device object\n",
    "device = wavewriter.WaveWriter()"
   ]
  },
  {
   "cell_type": "markdown",
   "metadata": {},
   "source": [
    "This automatically carries out all initialisation procedures, including locating the device on the host system and ensuring the device is communicating correctly.\n",
    "\n",
    "Note that an error will be produced on attempting to create the device object if the device is not connected to the host system.\n",
    "\n",
    "Once the device has been initialised once in this way, it is ready to send event signals to the recording system as outlined in the `triggering` section."
   ]
  },
  {
   "cell_type": "markdown",
   "metadata": {},
   "source": [
    "## Shutting down the device\n",
    "On completing the task, the communicating channel between the host system and the device should be shut down."
   ]
  },
  {
   "cell_type": "code",
   "execution_count": null,
   "metadata": {},
   "outputs": [],
   "source": [
    "show_doc(WaveWriter.close)"
   ]
  },
  {
   "cell_type": "markdown",
   "metadata": {},
   "source": [
    "The device should be shut down using the `close` command at the end of the task. "
   ]
  },
  {
   "cell_type": "code",
   "execution_count": null,
   "metadata": {},
   "outputs": [],
   "source": [
    "#|eval: false\n",
    "# Close device\n",
    "device.close()"
   ]
  },
  {
   "cell_type": "markdown",
   "metadata": {},
   "source": [
    "It can then be disconnected from the host system.\n",
    "\n",
    "This ensures that all communications ports are closed correctly to avoid any errors."
   ]
  },
  {
   "cell_type": "markdown",
   "metadata": {},
   "source": [
    "::: {.dark-mode}\n",
    "![Oxford Neural Interfacing 2023](oni.png)\n",
    ":::"
   ]
  },
  {
   "cell_type": "markdown",
   "metadata": {},
   "source": [
    "::: {.light-mode}\n",
    "![Oxford Neural Interfacing 2023](oni_blue.png)\n",
    ":::"
   ]
  },
  {
   "cell_type": "code",
   "execution_count": null,
   "metadata": {},
   "outputs": [],
   "source": [
    "#| hide\n",
    "import nbdev; nbdev.nbdev_export()"
   ]
  }
 ],
 "metadata": {
  "kernelspec": {
   "display_name": "syncmaster",
   "language": "python",
   "name": "syncmaster"
  }
 },
 "nbformat": 4,
 "nbformat_minor": 4
}
