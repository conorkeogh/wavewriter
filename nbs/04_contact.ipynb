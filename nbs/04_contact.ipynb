{
 "cells": [
  {
   "cell_type": "markdown",
   "metadata": {},
   "source": [
    "# Contact\n",
    "\n",
    "> Contact us with questions or issues"
   ]
  },
  {
   "cell_type": "code",
   "execution_count": null,
   "metadata": {},
   "outputs": [],
   "source": [
    "#| hide\n",
    "from nbdev.showdoc import *"
   ]
  },
  {
   "cell_type": "markdown",
   "metadata": {},
   "source": [
    "The SyncMaster system was developed by the Oxford Neural Interfacing group for use in neuroscience research. Please contact us with any questions or to report any issues with the system."
   ]
  },
  {
   "cell_type": "markdown",
   "metadata": {},
   "source": [
    "::: {.callout-note appearance=\"simple\"}\n",
    "## Disclaimer\n",
    "\n",
    "The device is presented as-is. It is intended for use in a research setting. Users are responsible for the application of the device.\n",
    ":::"
   ]
  },
  {
   "cell_type": "markdown",
   "metadata": {},
   "source": [
    "## Oxford Neural Interfacing\n",
    "\n",
    "Further information on the Oxford Neural interfacing group, our work and contact details can be found on the [group website](https://www.nds.ox.ac.uk/research/oxford-neural-interfacing \"Oxford Neural Interfacing website\")."
   ]
  },
  {
   "cell_type": "markdown",
   "metadata": {},
   "source": [
    "## GitHub\n",
    "\n",
    "Information on the SyncMaster device can be found on the project's [GitHub respository](https://github.com/Oxford-Neural-Interfacing/wavewriter \"WaveWriter GitHub repository\").\n",
    "\n",
    "Issues can be reported via GitHub [here](https://github.com/Oxford-Neural-Interfacing/wavewriter/issues \"Report issues with WaveWriter\") or via the \"Report an issue\" link in the sidebar."
   ]
  },
  {
   "cell_type": "markdown",
   "metadata": {},
   "source": [
    "## Email\n",
    "\n",
    "Any further questions or issues related to the device can be directed to Conor Keogh: <conor.keogh@nds.ox.ac.uk>."
   ]
  },
  {
   "cell_type": "markdown",
   "metadata": {},
   "source": [
    "::: {.dark-mode}\n",
    "![Oxford Neural Interfacing 2023](oni.png)\n",
    ":::"
   ]
  },
  {
   "cell_type": "markdown",
   "metadata": {},
   "source": [
    "::: {.light-mode}\n",
    "![Oxford Neural Interfacing 2023](oni_blue.png)\n",
    ":::"
   ]
  }
 ],
 "metadata": {
  "kernelspec": {
   "display_name": "syncmaster",
   "language": "python",
   "name": "syncmaster"
  }
 },
 "nbformat": 4,
 "nbformat_minor": 4
}
