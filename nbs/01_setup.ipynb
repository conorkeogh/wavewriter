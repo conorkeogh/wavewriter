{
 "cells": [
  {
   "cell_type": "markdown",
   "metadata": {},
   "source": [
    "# Setup\n",
    "\n",
    "> Connect the device to synchronise systems"
   ]
  },
  {
   "cell_type": "code",
   "execution_count": null,
   "metadata": {},
   "outputs": [],
   "source": [
    "#| default_exp setup"
   ]
  },
  {
   "cell_type": "code",
   "execution_count": null,
   "metadata": {},
   "outputs": [],
   "source": [
    "#| hide\n",
    "from nbdev.showdoc import *\n",
    "from wavewriter.device import *"
   ]
  },
  {
   "cell_type": "markdown",
   "metadata": {},
   "source": [
    "In order to synchronise recorded signals and behavioural tasks, the device needs to be connected to the computer running the behavioural task and to one of the input channels of the system recording the signals of interest."
   ]
  },
  {
   "cell_type": "markdown",
   "metadata": {},
   "source": [
    "## Connecting to computer\n",
    "The device should be connected to the computer using a standard USB cable.\n",
    "\n",
    "The host computer operating system will enumerate the device as a COM port. This can be ignored; the device drivers will use this port to communicate with the device to send signals."
   ]
  },
  {
   "cell_type": "markdown",
   "metadata": {},
   "source": [
    "## Connecting to recording system\n",
    "The device should be connected to an input channel on the recording system.\n",
    "\n",
    "The device provides a standard BNC output. This can be connected to the input of recording device.\n",
    "\n",
    "Note that the input ports of the recording device must be able to tolerate a 5V input as this is the voltage of the signal pulses used."
   ]
  },
  {
   "cell_type": "markdown",
   "metadata": {},
   "source": [
    "## Verifying connection\n",
    "Once connected, a test signal can be sent to verify that the systems are communicating correctly.\n",
    "\n",
    "By sending a predictable signal through the device, we can verify that the correct signals are being generated and that the recording system is receiving these correctly.\n",
    "\n",
    "A simple routine to implement this included in the device drivers."
   ]
  },
  {
   "cell_type": "markdown",
   "metadata": {},
   "source": [
    "This can be used in a simple script to set up the device and verify that all systems are communicating effectively in order to allow synchronisation."
   ]
  },
  {
   "cell_type": "markdown",
   "metadata": {},
   "source": [
    "This will generate a trigger on the output port once every second for five seconds. If this is visible on the recording system, the system is connected and functioning correctly."
   ]
  },
  {
   "cell_type": "markdown",
   "metadata": {},
   "source": [
    "::: {.dark-mode}\n",
    "![Oxford Neural Interfacing 2023](oni.png)\n",
    ":::"
   ]
  },
  {
   "cell_type": "markdown",
   "metadata": {},
   "source": [
    "::: {.light-mode}\n",
    "![Oxford Neural Interfacing 2023](oni_blue.png)\n",
    ":::"
   ]
  },
  {
   "cell_type": "code",
   "execution_count": null,
   "metadata": {},
   "outputs": [],
   "source": [
    "#| hide\n",
    "import nbdev; nbdev.nbdev_export()"
   ]
  }
 ],
 "metadata": {
  "kernelspec": {
   "display_name": "syncmaster",
   "language": "python",
   "name": "syncmaster"
  }
 },
 "nbformat": 4,
 "nbformat_minor": 4
}
